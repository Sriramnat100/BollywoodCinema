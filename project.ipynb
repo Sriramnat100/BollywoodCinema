{
 "cells": [
  {
   "cell_type": "code",
   "execution_count": 2,
   "id": "e22e9763",
   "metadata": {},
   "outputs": [],
   "source": [
    "from selenium import webdriver\n"
   ]
  },
  {
   "cell_type": "code",
   "execution_count": null,
   "id": "2eb4eebd",
   "metadata": {},
   "outputs": [],
   "source": [
    "from selenium import webdriver\n",
    "from selenium.webdriver.common.by import By\n",
    "from selenium.webdriver.support.ui import WebDriverWait\n",
    "from selenium.webdriver.support import expected_conditions as EC\n",
    "from selenium.common.exceptions import NoSuchElementException, TimeoutException\n",
    "import csv\n",
    "\n",
    "def scrape_year(year):\n",
    "    driver = webdriver.Chrome()\n",
    "    wait   = WebDriverWait(driver, 10)\n",
    "    driver.get(\"https://new.giitaayan.com\")\n",
    "\n",
    "    wait.until(EC.element_to_be_clickable((\n",
    "        By.XPATH, '//*[@id=\"root\"]/div[1]/main/div/div[3]/button'))).click()\n",
    "\n",
    "    search_box = wait.until(EC.presence_of_element_located((\n",
    "        By.CSS_SELECTOR, \"input[placeholder='Type words from song title']\")))\n",
    "    search_box.clear()\n",
    "    search_box.send_keys(f\"year:{year}\")\n",
    "\n",
    "    driver.find_element(\n",
    "        By.XPATH, '//*[@id=\"root\"]/div[1]/main/div/div[2]/div/form/button[2]'\n",
    "    ).click()\n",
    "\n",
    "    def harvest_current_page():\n",
    "        rows = driver.find_elements(By.CSS_SELECTOR, \"table tbody tr\")\n",
    "        page = []\n",
    "        for r in rows:\n",
    "            tds = r.find_elements(By.TAG_NAME, \"td\")\n",
    "            if len(tds) >= 6:\n",
    "                page.append([td.text.strip() for td in tds[:6]])\n",
    "        return page\n",
    "\n",
    "    all_rows = []\n",
    "    while True:\n",
    "        wait.until(EC.presence_of_all_elements_located((\n",
    "            By.CSS_SELECTOR, \"table tbody tr\")))\n",
    "        all_rows.extend(harvest_current_page())\n",
    "\n",
    "        try:\n",
    "            next_btn = driver.find_element(\n",
    "                By.CSS_SELECTOR, \"button[aria-label='Next page']\")\n",
    "            if not next_btn.is_enabled():       # disabled → last page\n",
    "                break\n",
    "            next_btn.click()\n",
    "            wait.until(EC.staleness_of(next_btn))   # wait for refresh\n",
    "        except (NoSuchElementException, TimeoutException):\n",
    "            break                                 # arrow vanished\n",
    "\n",
    "    driver.quit()\n",
    "\n",
    "    with open(f\"songs.csv\", \"a\", newline='', encoding=\"utf-8\") as f:\n",
    "        w = csv.writer(f)\n",
    "        w.writerows(all_rows)\n",
    "\n",
    "\n"
   ]
  },
  {
   "cell_type": "code",
   "execution_count": null,
   "id": "c5fc8dc8",
   "metadata": {},
   "outputs": [],
   "source": [
    "for year in range(193,201):\n",
    "    scrape_year(year)"
   ]
  }
 ],
 "metadata": {
  "kernelspec": {
   "display_name": "myenv",
   "language": "python",
   "name": "python3"
  },
  "language_info": {
   "codemirror_mode": {
    "name": "ipython",
    "version": 3
   },
   "file_extension": ".py",
   "mimetype": "text/x-python",
   "name": "python",
   "nbconvert_exporter": "python",
   "pygments_lexer": "ipython3",
   "version": "3.13.1"
  }
 },
 "nbformat": 4,
 "nbformat_minor": 5
}
