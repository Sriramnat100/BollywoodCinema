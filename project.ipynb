{
 "cells": [
  {
   "cell_type": "code",
   "execution_count": 2,
   "id": "e22e9763",
   "metadata": {},
   "outputs": [],
   "source": [
    "from selenium import webdriver\n"
   ]
  },
  {
   "cell_type": "code",
   "execution_count": 7,
   "id": "2eb4eebd",
   "metadata": {},
   "outputs": [],
   "source": [
    "from selenium import webdriver\n",
    "from selenium.webdriver.common.by import By\n",
    "from selenium.webdriver.support.ui import WebDriverWait\n",
    "from selenium.webdriver.support import expected_conditions as EC\n",
    "import csv, time, random\n",
    "\n",
    "def scrape_website(link, year_query=\"193\"):\n",
    "    driver = webdriver.Chrome()\n",
    "    wait   = WebDriverWait(driver, 10)         \n",
    "    driver.get(link)\n",
    "\n",
    "    wait.until(EC.element_to_be_clickable(\n",
    "        (By.XPATH, '//*[@id=\"root\"]/div[1]/main/div/div[3]/button'))).click()\n",
    "\n",
    "    # 2️⃣ type the query and submit\n",
    "    search = driver.find_element(\n",
    "        By.CSS_SELECTOR, \"input[placeholder='Type words from song title']\")\n",
    "    search.clear()\n",
    "    search.send_keys(f\"year:{year_query}\")\n",
    "\n",
    "    driver.find_element(\n",
    "        By.XPATH, '//*[@id=\"root\"]/div[1]/main/div/div[2]/div/form/button[2]'\n",
    "    ).click()\n",
    "\n",
    "    wait.until(EC.presence_of_all_elements_located(\n",
    "        (By.CSS_SELECTOR, \"table tbody tr\")))\n",
    "\n",
    "    rows   = driver.find_elements(By.CSS_SELECTOR, \"table tbody tr\")\n",
    "    songs  = []\n",
    "\n",
    "    for r in rows:\n",
    "        cells = r.find_elements(By.TAG_NAME, \"td\")\n",
    "        if len(cells) < 6:                        \n",
    "            continue\n",
    "        songs.append({\n",
    "            \"title\"    : cells[0].text.strip(),\n",
    "            \"album\"    : cells[1].text.strip(),\n",
    "            \"year\"     : cells[2].text.strip(),\n",
    "            \"composer\" : cells[3].text.strip(),\n",
    "            \"lyricist\" : cells[4].text.strip(),\n",
    "            \"singer\"   : cells[5].text.strip(),\n",
    "        })\n",
    "\n",
    "    with open(f\"songs_{year_query}.csv\", \"w\", newline='', encoding=\"utf‑8\") as f:\n",
    "        writer = csv.DictWriter(f, fieldnames=songs[0].keys())\n",
    "        writer.writeheader()\n",
    "        writer.writerows(songs)\n",
    "\n",
    "    time.sleep(random.uniform(0.5, 1.0))\n",
    "    driver.quit()\n",
    "\n",
    "\n",
    "\n",
    "# demo run\n",
    "scrape_website(\"https://new.giitaayan.com/\", year_query=\"193\")\n"
   ]
  },
  {
   "cell_type": "code",
   "execution_count": null,
   "id": "c5fc8dc8",
   "metadata": {},
   "outputs": [],
   "source": []
  }
 ],
 "metadata": {
  "kernelspec": {
   "display_name": "myenv",
   "language": "python",
   "name": "python3"
  },
  "language_info": {
   "codemirror_mode": {
    "name": "ipython",
    "version": 3
   },
   "file_extension": ".py",
   "mimetype": "text/x-python",
   "name": "python",
   "nbconvert_exporter": "python",
   "pygments_lexer": "ipython3",
   "version": "3.13.1"
  }
 },
 "nbformat": 4,
 "nbformat_minor": 5
}
